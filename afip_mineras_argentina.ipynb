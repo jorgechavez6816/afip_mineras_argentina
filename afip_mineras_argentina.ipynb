{
 "cells": [
  {
   "cell_type": "code",
   "execution_count": 6,
   "metadata": {},
   "outputs": [],
   "source": [
    "#Páginas web de Instituciones Argentinas\n",
    "#https://serviciosweb.afip.gob.ar/genericos/Registros/mineras/mineras.aspx\n",
    "\n",
    "import pandas as pd\n",
    "import pyautogui\n",
    "from urllib.request import urlopen\n",
    "from zipfile import ZipFile\n",
    "\n",
    "url = 'https://serviciosweb.afip.gob.ar/genericos/Registros/mineras/Archivos/Mineras.csv'\n",
    "df1 = pd.read_csv(url, sep=\";\", encoding='latin-1') \n",
    "df1.to_csv('C:\\\\Users\\\\Intel\\\\Documents\\\\Mis documentos IDEA\\\\Samples\\\\Archivos fuente.ILB\\\\Mineras.csv', encoding=\"utf-8\")\n"
   ]
  },
  {
   "cell_type": "code",
   "execution_count": null,
   "metadata": {},
   "outputs": [],
   "source": []
  }
 ],
 "metadata": {
  "kernelspec": {
   "display_name": "Python 3",
   "language": "python",
   "name": "python3"
  },
  "language_info": {
   "codemirror_mode": {
    "name": "ipython",
    "version": 3
   },
   "file_extension": ".py",
   "mimetype": "text/x-python",
   "name": "python",
   "nbconvert_exporter": "python",
   "pygments_lexer": "ipython3",
   "version": "3.7.6"
  }
 },
 "nbformat": 4,
 "nbformat_minor": 4
}
